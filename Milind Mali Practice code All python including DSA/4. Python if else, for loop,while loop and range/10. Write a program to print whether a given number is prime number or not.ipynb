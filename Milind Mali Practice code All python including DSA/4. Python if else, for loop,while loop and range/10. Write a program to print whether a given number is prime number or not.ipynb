{
 "cells": [
  {
   "cell_type": "markdown",
   "metadata": {},
   "source": [
    "### 10. Write a program to print whether a given number is prime number or not"
   ]
  },
  {
   "cell_type": "code",
   "execution_count": 1,
   "metadata": {},
   "outputs": [
    {
     "name": "stdout",
     "output_type": "stream",
     "text": [
      "It is a prime number\n"
     ]
    }
   ],
   "source": [
    "x = int(input(\"Enter the Number: \"))\n",
    "\n",
    "new = []\n",
    "\n",
    "if x == 1:\n",
    "    print(\"1 is not a prime number\")\n",
    "else:\n",
    "    for i in range(1,x+1):\n",
    "        if x%i ==0:\n",
    "            new.append(i)\n",
    "\n",
    "    if len(new) > 2:\n",
    "        print(\"It is not a prime number\")\n",
    "    else:\n",
    "        print(\"It is a prime number\")          "
   ]
  }
 ],
 "metadata": {
  "kernelspec": {
   "display_name": "Python 3",
   "language": "python",
   "name": "python3"
  },
  "language_info": {
   "codemirror_mode": {
    "name": "ipython",
    "version": 3
   },
   "file_extension": ".py",
   "mimetype": "text/x-python",
   "name": "python",
   "nbconvert_exporter": "python",
   "pygments_lexer": "ipython3",
   "version": "3.12.7"
  }
 },
 "nbformat": 4,
 "nbformat_minor": 2
}
