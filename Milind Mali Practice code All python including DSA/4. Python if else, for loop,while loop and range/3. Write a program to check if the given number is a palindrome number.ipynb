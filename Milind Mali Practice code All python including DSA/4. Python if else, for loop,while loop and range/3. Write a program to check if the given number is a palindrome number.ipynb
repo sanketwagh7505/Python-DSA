{
 "cells": [
  {
   "cell_type": "markdown",
   "metadata": {},
   "source": [
    "### 3. Write a program to check if the given number is a palindrome number."
   ]
  },
  {
   "cell_type": "markdown",
   "metadata": {},
   "source": [
    "#### A palindrome number is a number that is same after reverse. For example 545, is a palindrome number."
   ]
  },
  {
   "cell_type": "code",
   "execution_count": 2,
   "metadata": {},
   "outputs": [
    {
     "name": "stdout",
     "output_type": "stream",
     "text": [
      "343\n",
      "The number is palindrome\n"
     ]
    }
   ],
   "source": [
    "n = input(\"enter the number: \")\n",
    "\n",
    "rev_number =n[::-1]\n",
    "print(rev_number)\n",
    "\n",
    "if n==rev_number:\n",
    "    print(\"The number is palindrome\")\n",
    "else :\n",
    "    print(\"The number is not Palindrome\")    "
   ]
  }
 ],
 "metadata": {
  "kernelspec": {
   "display_name": "Python 3",
   "language": "python",
   "name": "python3"
  },
  "language_info": {
   "codemirror_mode": {
    "name": "ipython",
    "version": 3
   },
   "file_extension": ".py",
   "mimetype": "text/x-python",
   "name": "python",
   "nbconvert_exporter": "python",
   "pygments_lexer": "ipython3",
   "version": "3.12.7"
  }
 },
 "nbformat": 4,
 "nbformat_minor": 2
}
