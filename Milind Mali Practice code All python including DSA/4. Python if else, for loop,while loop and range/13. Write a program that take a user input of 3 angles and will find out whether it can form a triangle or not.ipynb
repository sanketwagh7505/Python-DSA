{
 "cells": [
  {
   "cell_type": "markdown",
   "metadata": {},
   "source": [
    "### 13. Write a program that take a user input of three angles and will find out whether it can form a Triangle or not"
   ]
  },
  {
   "cell_type": "code",
   "execution_count": 2,
   "metadata": {},
   "outputs": [
    {
     "name": "stdout",
     "output_type": "stream",
     "text": [
      "Yes, It can form a Triangle\n"
     ]
    }
   ],
   "source": [
    "a = float(input(\"1st angle of Triangle: \"))\n",
    "b = float(input(\"2nd angle of Triangle: \"))\n",
    "c = float(input(\"3rd angle of Triangle: \"))\n",
    "\n",
    "if (a+b+c) == 180 and a!= 0 and b!=0 and c!=0:\n",
    "    print(\"Yes, It can form a Triangle\")\n",
    "else:\n",
    "    print(\"No, It can't form a Triangle\")     "
   ]
  }
 ],
 "metadata": {
  "kernelspec": {
   "display_name": "Python 3",
   "language": "python",
   "name": "python3"
  },
  "language_info": {
   "codemirror_mode": {
    "name": "ipython",
    "version": 3
   },
   "file_extension": ".py",
   "mimetype": "text/x-python",
   "name": "python",
   "nbconvert_exporter": "python",
   "pygments_lexer": "ipython3",
   "version": "3.12.7"
  }
 },
 "nbformat": 4,
 "nbformat_minor": 2
}
