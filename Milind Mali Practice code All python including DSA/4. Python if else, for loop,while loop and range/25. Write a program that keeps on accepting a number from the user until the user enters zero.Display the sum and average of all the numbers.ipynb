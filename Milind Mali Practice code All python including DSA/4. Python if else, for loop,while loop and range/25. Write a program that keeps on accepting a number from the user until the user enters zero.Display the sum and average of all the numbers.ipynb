{
 "cells": [
  {
   "cell_type": "markdown",
   "metadata": {},
   "source": [
    "### 25. Write a program that keeps on accepting a number from the user until the user enters zero. Display the sum and average of all the numbers."
   ]
  },
  {
   "cell_type": "code",
   "execution_count": 1,
   "metadata": {},
   "outputs": [
    {
     "name": "stdout",
     "output_type": "stream",
     "text": [
      "Your sum is:  56\n",
      "Your Avg is:  56.0\n",
      "Thank You\n"
     ]
    }
   ],
   "source": [
    "n = int(input(\"Enter the number: \"))\n",
    "\n",
    "total = 0\n",
    "avg = 0\n",
    "count = 0\n",
    "\n",
    "while True:\n",
    "    if n!=0:\n",
    "        total = total + n\n",
    "        count += 1\n",
    "        avg = total/count\n",
    "        n = int(input(\"Enter the number: \"))\n",
    "\n",
    "    else:\n",
    "        print(\"Thank You\")\n",
    "        break\n",
    "\n",
    "    print(\"Your sum is: \", total)\n",
    "    print(\"Your Avg is: \", round(avg,2))    \n"
   ]
  }
 ],
 "metadata": {
  "kernelspec": {
   "display_name": "Python 3",
   "language": "python",
   "name": "python3"
  },
  "language_info": {
   "codemirror_mode": {
    "name": "ipython",
    "version": 3
   },
   "file_extension": ".py",
   "mimetype": "text/x-python",
   "name": "python",
   "nbconvert_exporter": "python",
   "pygments_lexer": "ipython3",
   "version": "3.12.7"
  }
 },
 "nbformat": 4,
 "nbformat_minor": 2
}
