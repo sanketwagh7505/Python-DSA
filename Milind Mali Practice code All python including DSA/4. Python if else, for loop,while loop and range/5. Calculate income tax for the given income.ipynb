{
 "cells": [
  {
   "cell_type": "markdown",
   "metadata": {},
   "source": [
    "### 5. Calculate income tax for the given income by adhering to the below rules"
   ]
  },
  {
   "cell_type": "markdown",
   "metadata": {},
   "source": [
    "##### first 10k --> 0%\n",
    "##### second 10 --> 10%\n",
    "##### remaining --> 20%\n",
    "__________________________________________________________________________________________________"
   ]
  },
  {
   "cell_type": "markdown",
   "metadata": {},
   "source": [
    "##### For example, suppose the taxable income is 45000, the income tax payable is \n",
    "\n",
    "##### 1000 *0% +25000 * 20% = 6000"
   ]
  },
  {
   "cell_type": "code",
   "execution_count": 2,
   "metadata": {},
   "outputs": [
    {
     "name": "stdout",
     "output_type": "stream",
     "text": [
      "3000.0\n"
     ]
    }
   ],
   "source": [
    "n =int(input(\"Enter the number\"))\n",
    "\n",
    "if n<= 10000:\n",
    "    print(n)\n",
    "else:\n",
    "    a = n-10000\n",
    "    b= a -10000\n",
    "    c = b * 0.20\n",
    "    d = c +1000\n",
    "\n",
    "    print(d)"
   ]
  }
 ],
 "metadata": {
  "kernelspec": {
   "display_name": "Python 3",
   "language": "python",
   "name": "python3"
  },
  "language_info": {
   "codemirror_mode": {
    "name": "ipython",
    "version": 3
   },
   "file_extension": ".py",
   "mimetype": "text/x-python",
   "name": "python",
   "nbconvert_exporter": "python",
   "pygments_lexer": "ipython3",
   "version": "3.12.7"
  }
 },
 "nbformat": 4,
 "nbformat_minor": 2
}
