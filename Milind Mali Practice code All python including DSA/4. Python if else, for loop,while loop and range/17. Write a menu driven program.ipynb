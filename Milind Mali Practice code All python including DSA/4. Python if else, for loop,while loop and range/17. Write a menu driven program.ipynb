{
 "cells": [
  {
   "cell_type": "markdown",
   "metadata": {},
   "source": [
    "### 17. Write a Menu Driven Program "
   ]
  },
  {
   "cell_type": "markdown",
   "metadata": {},
   "source": [
    "1. cm to ft\n",
    "2. kl to miles\n",
    "3. usd to inr \n",
    "4. exit"
   ]
  },
  {
   "cell_type": "code",
   "execution_count": 3,
   "metadata": {},
   "outputs": [
    {
     "name": "stdout",
     "output_type": "stream",
     "text": [
      "833.9 INR\n"
     ]
    }
   ],
   "source": [
    "user_input = int(input(\"\"\"Enter 1 to convert 'cm' to 'ft' \n",
    "                        Enter 2 to convert 'km' to 'miles'\n",
    "                        Enter 3 to convert 'USD' to 'INR' \n",
    "                        Enter 4 to exit \"\"\"))\n",
    "\n",
    "if user_input == 1:\n",
    "    var1 = int(input(\"Enter the value in cm\"))\n",
    "    output = var1/30.48\n",
    "    print(output, 'ft')\n",
    "\n",
    "elif user_input == 2:\n",
    "    var2 = int(input(\"Enter the value in km\"))\n",
    "    output = var2/1.609\n",
    "    print(output, 'km')\n",
    "\n",
    "elif user_input == 3:\n",
    "    var3 = int(input(\"Enter the value in USD\"))\n",
    "    output = var3*83.39\n",
    "    print(output, 'INR')\n",
    "\n",
    "else:\n",
    "    print('Exit')        "
   ]
  }
 ],
 "metadata": {
  "kernelspec": {
   "display_name": "Python 3",
   "language": "python",
   "name": "python3"
  },
  "language_info": {
   "codemirror_mode": {
    "name": "ipython",
    "version": 3
   },
   "file_extension": ".py",
   "mimetype": "text/x-python",
   "name": "python",
   "nbconvert_exporter": "python",
   "pygments_lexer": "ipython3",
   "version": "3.12.7"
  }
 },
 "nbformat": 4,
 "nbformat_minor": 2
}
