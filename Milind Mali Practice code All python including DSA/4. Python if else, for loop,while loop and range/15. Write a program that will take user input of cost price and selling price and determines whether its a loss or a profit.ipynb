{
 "cells": [
  {
   "cell_type": "markdown",
   "metadata": {},
   "source": [
    "### 15. Write a program that will take user input of cost price and selling price and determines whether its a loss or a profit. "
   ]
  },
  {
   "cell_type": "code",
   "execution_count": 3,
   "metadata": {},
   "outputs": [
    {
     "name": "stdout",
     "output_type": "stream",
     "text": [
      "It is a loss, the loss amount is:  -30\n"
     ]
    }
   ],
   "source": [
    "cost = int(input(\"Enter the cost price: \"))\n",
    "sell = int(input(\"Enter the sell price: \"))\n",
    "\n",
    "if (sell - cost) > 0:\n",
    "    amount = sell - cost\n",
    "    print(\"It is profit, The profit amount is: \", amount)\n",
    "\n",
    "else:\n",
    "    amount = sell - cost\n",
    "    print(\"It is a loss, the loss amount is: \", amount)    "
   ]
  }
 ],
 "metadata": {
  "kernelspec": {
   "display_name": "Python 3",
   "language": "python",
   "name": "python3"
  },
  "language_info": {
   "codemirror_mode": {
    "name": "ipython",
    "version": 3
   },
   "file_extension": ".py",
   "mimetype": "text/x-python",
   "name": "python",
   "nbconvert_exporter": "python",
   "pygments_lexer": "ipython3",
   "version": "3.12.7"
  }
 },
 "nbformat": 4,
 "nbformat_minor": 2
}
