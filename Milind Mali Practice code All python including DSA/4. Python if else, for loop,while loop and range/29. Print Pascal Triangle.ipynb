{
 "cells": [
  {
   "cell_type": "markdown",
   "metadata": {},
   "source": [
    "### 29. Print Pascal Triangle."
   ]
  },
  {
   "cell_type": "code",
   "execution_count": 1,
   "metadata": {},
   "outputs": [
    {
     "name": "stdout",
     "output_type": "stream",
     "text": [
      "    1 \n",
      "   1 1 \n",
      "  1 2 1 \n",
      " 1 3 3 1 \n",
      "1 4 6 4 1 \n"
     ]
    }
   ],
   "source": [
    "n=int(input(\"enter the number: \"))\n",
    "list1=[]\n",
    "for i in range(0,n):\n",
    "    temp=[]\n",
    "    for j in range(0,i+1):\n",
    "        if j==0 or j==i:\n",
    "            temp.append(1)\n",
    "        else: \n",
    "            temp.append(list1[i-1][j]+list1[i-1][j-1])\n",
    "    list1.append(temp)\n",
    "\n",
    "#print(list1)\n",
    "for i in range(n):\n",
    "    for j in range(0,n-i-1):\n",
    "        print(\" \",end=\"\")\n",
    "\n",
    "    for j in range(0,i+1):\n",
    "        print(list1[i][j],end=\" \")\n",
    "    \n",
    "    print()"
   ]
  }
 ],
 "metadata": {
  "kernelspec": {
   "display_name": "Python 3",
   "language": "python",
   "name": "python3"
  },
  "language_info": {
   "codemirror_mode": {
    "name": "ipython",
    "version": 3
   },
   "file_extension": ".py",
   "mimetype": "text/x-python",
   "name": "python",
   "nbconvert_exporter": "python",
   "pygments_lexer": "ipython3",
   "version": "3.12.7"
  }
 },
 "nbformat": 4,
 "nbformat_minor": 2
}
