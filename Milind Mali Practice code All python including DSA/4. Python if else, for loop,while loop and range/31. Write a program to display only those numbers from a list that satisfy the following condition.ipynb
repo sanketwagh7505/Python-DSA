{
 "cells": [
  {
   "cell_type": "markdown",
   "metadata": {},
   "source": [
    "### 31. Write a program to display only those numbers from a list that satisfy the following condition\n",
    "\n",
    "*The number must be divisible by five.*\n",
    "\n",
    "*if the number is greater than 150, then skip it and move to the next number.*\n",
    "\n",
    "*if the number is greater than 500, then stop the loop.*"
   ]
  },
  {
   "cell_type": "code",
   "execution_count": 1,
   "metadata": {},
   "outputs": [
    {
     "name": "stdout",
     "output_type": "stream",
     "text": [
      "75\n",
      "180\n",
      "145\n"
     ]
    }
   ],
   "source": [
    "num = [12,75,150,180,145,525,50]\n",
    "\n",
    "for i in num:\n",
    "    if i > 500:\n",
    "        break\n",
    "    elif i ==150:\n",
    "        continue\n",
    "\n",
    "    else:\n",
    "        if i%5 ==0:\n",
    "            print(i)"
   ]
  }
 ],
 "metadata": {
  "kernelspec": {
   "display_name": "Python 3",
   "language": "python",
   "name": "python3"
  },
  "language_info": {
   "codemirror_mode": {
    "name": "ipython",
    "version": 3
   },
   "file_extension": ".py",
   "mimetype": "text/x-python",
   "name": "python",
   "nbconvert_exporter": "python",
   "pygments_lexer": "ipython3",
   "version": "3.12.7"
  }
 },
 "nbformat": 4,
 "nbformat_minor": 2
}
