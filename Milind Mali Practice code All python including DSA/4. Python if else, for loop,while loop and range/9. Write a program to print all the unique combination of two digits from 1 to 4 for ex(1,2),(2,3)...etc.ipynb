{
 "cells": [
  {
   "cell_type": "markdown",
   "metadata": {},
   "source": [
    "### 9. Write a program to print all the unique combination of two digits from 1 to 4 for ex(1,2),(2,3)..."
   ]
  },
  {
   "cell_type": "code",
   "execution_count": 1,
   "metadata": {},
   "outputs": [
    {
     "name": "stdout",
     "output_type": "stream",
     "text": [
      "1 2\n",
      "1 3\n",
      "1 4\n",
      "2 1\n",
      "2 3\n",
      "2 4\n",
      "3 1\n",
      "3 2\n",
      "3 4\n",
      "4 1\n",
      "4 2\n",
      "4 3\n"
     ]
    }
   ],
   "source": [
    "# since we have 4 digits their unique combination will be 16\n",
    "for i in range(1,5):\n",
    "    for j in range(1,5):\n",
    "        if i!=j:\n",
    "            print(i,j)"
   ]
  },
  {
   "cell_type": "code",
   "execution_count": null,
   "metadata": {},
   "outputs": [],
   "source": []
  }
 ],
 "metadata": {
  "kernelspec": {
   "display_name": "Python 3",
   "language": "python",
   "name": "python3"
  },
  "language_info": {
   "codemirror_mode": {
    "name": "ipython",
    "version": 3
   },
   "file_extension": ".py",
   "mimetype": "text/x-python",
   "name": "python",
   "nbconvert_exporter": "python",
   "pygments_lexer": "ipython3",
   "version": "3.12.7"
  }
 },
 "nbformat": 4,
 "nbformat_minor": 2
}
