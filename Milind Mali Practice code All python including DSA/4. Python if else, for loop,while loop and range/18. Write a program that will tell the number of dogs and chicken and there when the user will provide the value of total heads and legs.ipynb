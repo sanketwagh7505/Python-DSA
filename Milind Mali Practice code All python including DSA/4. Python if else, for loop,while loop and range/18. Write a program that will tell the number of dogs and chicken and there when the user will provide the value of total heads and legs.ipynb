{
 "cells": [
  {
   "cell_type": "markdown",
   "metadata": {},
   "source": [
    "### 18. Write a program that will tell the number of dogs and chicken and there when the user will provide the value of total heads and legs."
   ]
  },
  {
   "cell_type": "code",
   "execution_count": 1,
   "metadata": {},
   "outputs": [
    {
     "name": "stdout",
     "output_type": "stream",
     "text": [
      "There are  1 Number of dogs\n"
     ]
    }
   ],
   "source": [
    "heads = int(input(\"Enter the number of heads: \"))\n",
    "legs = int(input(\"Enter the number of tails: \"))\n",
    "\n",
    "if heads/legs == 0.25:\n",
    "    number_of_dogs = legs/4\n",
    "    print(\"There are \", round(number_of_dogs), 'Number of dogs')\n",
    "elif heads/legs == 0.5:\n",
    "    number_of_chicken = legs/2 \n",
    "    print(\"There are\", round(number_of_chicken, 'Number of chicken'))\n",
    "else:\n",
    "    print(\"Enter a correct number\")    \n"
   ]
  }
 ],
 "metadata": {
  "kernelspec": {
   "display_name": "Python 3",
   "language": "python",
   "name": "python3"
  },
  "language_info": {
   "codemirror_mode": {
    "name": "ipython",
    "version": 3
   },
   "file_extension": ".py",
   "mimetype": "text/x-python",
   "name": "python",
   "nbconvert_exporter": "python",
   "pygments_lexer": "ipython3",
   "version": "3.12.7"
  }
 },
 "nbformat": 4,
 "nbformat_minor": 2
}
