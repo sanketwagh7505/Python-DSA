{
 "cells": [
  {
   "cell_type": "markdown",
   "metadata": {},
   "source": [
    "### 12. User will provide 2 numbers you have to find the LCM of 2 numbers."
   ]
  },
  {
   "cell_type": "code",
   "execution_count": null,
   "metadata": {},
   "outputs": [
    {
     "name": "stdout",
     "output_type": "stream",
     "text": [
      "12\n"
     ]
    }
   ],
   "source": [
    "a = int(input(\"Enter the First Number: \"))\n",
    "b = int(input(\"Enter the Second Number: \"))\n",
    "\n",
    "if a>b:\n",
    "    greater = a\n",
    "else:\n",
    "    greater = b\n",
    "\n",
    "while(True):\n",
    "    if (greater%a ==0 ) and (greater%b ==0):\n",
    "        LCM = greater\n",
    "        break\n",
    "    greater+=1\n",
    "\n",
    "print(LCM)"
   ]
  }
 ],
 "metadata": {
  "kernelspec": {
   "display_name": "Python 3",
   "language": "python",
   "name": "python3"
  },
  "language_info": {
   "codemirror_mode": {
    "name": "ipython",
    "version": 3
   },
   "file_extension": ".py",
   "mimetype": "text/x-python",
   "name": "python",
   "nbconvert_exporter": "python",
   "pygments_lexer": "ipython3",
   "version": "3.12.7"
  }
 },
 "nbformat": 4,
 "nbformat_minor": 2
}
