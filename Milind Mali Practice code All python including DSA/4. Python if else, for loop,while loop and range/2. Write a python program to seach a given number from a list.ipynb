{
 "cells": [
  {
   "cell_type": "markdown",
   "metadata": {},
   "source": [
    "### 2. Write a python program to search a given number from a list. "
   ]
  },
  {
   "cell_type": "code",
   "execution_count": null,
   "metadata": {},
   "outputs": [
    {
     "name": "stdout",
     "output_type": "stream",
     "text": [
      "Number Exists !!\n",
      "Number Exists !!\n",
      "Number does not Exists\n"
     ]
    }
   ],
   "source": [
    "l1 = [4,5,6,2,3,9,1,4,5,6,3]\n",
    "n= int(input(\"Enter the number: \"))\n",
    "\n",
    "for i in l1:\n",
    "    if i == n:\n",
    "        print(\"Number Exists !!\")\n",
    "        break\n",
    "else:\n",
    "    print(\"Number does not Exists\")"
   ]
  }
 ],
 "metadata": {
  "kernelspec": {
   "display_name": "Python 3",
   "language": "python",
   "name": "python3"
  },
  "language_info": {
   "codemirror_mode": {
    "name": "ipython",
    "version": 3
   },
   "file_extension": ".py",
   "mimetype": "text/x-python",
   "name": "python",
   "nbconvert_exporter": "python",
   "pygments_lexer": "ipython3",
   "version": "3.12.7"
  }
 },
 "nbformat": 4,
 "nbformat_minor": 2
}
