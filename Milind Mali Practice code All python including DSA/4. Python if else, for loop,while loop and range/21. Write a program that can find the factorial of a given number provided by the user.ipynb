{
 "cells": [
  {
   "cell_type": "markdown",
   "metadata": {},
   "source": [
    "### 21. Write a program that can find the factorial of a given number provided by the user."
   ]
  },
  {
   "cell_type": "code",
   "execution_count": 1,
   "metadata": {},
   "outputs": [
    {
     "name": "stdout",
     "output_type": "stream",
     "text": [
      "120\n"
     ]
    }
   ],
   "source": [
    "n = int(input(\"Enter the number: \"))\n",
    "\n",
    "factorial = 1\n",
    "\n",
    "if n < 0:\n",
    "    print(\"Factorial don't exist for negative number\")\n",
    "elif n ==0 :\n",
    "    print(\"Factorial of zero is always 1\")\n",
    "else:\n",
    "    for i in range(1, n+1):\n",
    "        factorial = factorial * i\n",
    "    print(factorial)            "
   ]
  }
 ],
 "metadata": {
  "kernelspec": {
   "display_name": "Python 3",
   "language": "python",
   "name": "python3"
  },
  "language_info": {
   "codemirror_mode": {
    "name": "ipython",
    "version": 3
   },
   "file_extension": ".py",
   "mimetype": "text/x-python",
   "name": "python",
   "nbconvert_exporter": "python",
   "pygments_lexer": "ipython3",
   "version": "3.12.7"
  }
 },
 "nbformat": 4,
 "nbformat_minor": 2
}
