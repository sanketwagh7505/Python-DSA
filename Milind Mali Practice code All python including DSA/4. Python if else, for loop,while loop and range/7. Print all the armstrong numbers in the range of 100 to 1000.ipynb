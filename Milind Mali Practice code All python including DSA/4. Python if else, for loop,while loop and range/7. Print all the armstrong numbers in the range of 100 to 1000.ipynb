{
 "cells": [
  {
   "cell_type": "markdown",
   "metadata": {},
   "source": [
    "### 7. Print all the armstrong number in the range of 100 to 1000."
   ]
  },
  {
   "cell_type": "code",
   "execution_count": 2,
   "metadata": {},
   "outputs": [
    {
     "name": "stdout",
     "output_type": "stream",
     "text": [
      "[153, 370, 371, 407]\n"
     ]
    }
   ],
   "source": [
    "armstrong_list =[]\n",
    "\n",
    "for i in range(100, 1000):\n",
    "    a = i % 10\n",
    "    num = i // 10\n",
    "    b = num %10\n",
    "    c = num // 10\n",
    "\n",
    "    if (a**3) + (b**3) + (c**3)==i:\n",
    "        armstrong_list.append(i)\n",
    "\n",
    "print(armstrong_list)"
   ]
  }
 ],
 "metadata": {
  "kernelspec": {
   "display_name": "Python 3",
   "language": "python",
   "name": "python3"
  },
  "language_info": {
   "codemirror_mode": {
    "name": "ipython",
    "version": 3
   },
   "file_extension": ".py",
   "mimetype": "text/x-python",
   "name": "python",
   "nbconvert_exporter": "python",
   "pygments_lexer": "ipython3",
   "version": "3.12.7"
  }
 },
 "nbformat": 4,
 "nbformat_minor": 2
}
