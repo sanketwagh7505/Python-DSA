{
 "cells": [
  {
   "cell_type": "markdown",
   "metadata": {},
   "source": [
    "### 11. User will provide 2 numbers you have to find the HCF of those two numbers"
   ]
  },
  {
   "cell_type": "code",
   "execution_count": 4,
   "metadata": {},
   "outputs": [
    {
     "name": "stdout",
     "output_type": "stream",
     "text": [
      "The HCF of the given two number is 10\n"
     ]
    }
   ],
   "source": [
    "x = int(input(\"Enter the Number: \"))\n",
    "y = int(input(\"Enter the Number: \"))\n",
    "\n",
    "x_div = []\n",
    "y_div = []\n",
    "\n",
    "for i in range(1,x+1):\n",
    "    if x%i == 0:\n",
    "        x_div.append(i)\n",
    "\n",
    "for i in range(1,y+1):\n",
    "    if y%i == 0:\n",
    "        y_div.append(i)\n",
    "\n",
    "common_list = []\n",
    "\n",
    "for i in x_div:\n",
    "    if i in y_div:\n",
    "        common_list.append(i)\n",
    "\n",
    "print(\"The HCF of the given two number is\", max(common_list))\n"
   ]
  }
 ],
 "metadata": {
  "kernelspec": {
   "display_name": "Python 3",
   "language": "python",
   "name": "python3"
  },
  "language_info": {
   "codemirror_mode": {
    "name": "ipython",
    "version": 3
   },
   "file_extension": ".py",
   "mimetype": "text/x-python",
   "name": "python",
   "nbconvert_exporter": "python",
   "pygments_lexer": "ipython3",
   "version": "3.12.7"
  }
 },
 "nbformat": 4,
 "nbformat_minor": 2
}
