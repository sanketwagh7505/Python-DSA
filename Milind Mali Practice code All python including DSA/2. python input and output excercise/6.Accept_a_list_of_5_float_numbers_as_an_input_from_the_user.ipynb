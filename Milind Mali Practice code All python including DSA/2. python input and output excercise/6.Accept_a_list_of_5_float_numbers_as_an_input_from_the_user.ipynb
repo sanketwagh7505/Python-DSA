{
 "cells": [
  {
   "cell_type": "code",
   "execution_count": 2,
   "metadata": {},
   "outputs": [
    {
     "name": "stdout",
     "output_type": "stream",
     "text": [
      "[67.65, 98.98, 65.55, 78.9997, 65.545]\n"
     ]
    }
   ],
   "source": [
    "l1 = []\n",
    "\n",
    "while len(l1) < 5:\n",
    "    n = float(input(\"Enter a number: \"))\n",
    "    l1.append(n)\n",
    "\n",
    "print(l1)    "
   ]
  }
 ],
 "metadata": {
  "kernelspec": {
   "display_name": "Python 3",
   "language": "python",
   "name": "python3"
  },
  "language_info": {
   "codemirror_mode": {
    "name": "ipython",
    "version": 3
   },
   "file_extension": ".py",
   "mimetype": "text/x-python",
   "name": "python",
   "nbconvert_exporter": "python",
   "pygments_lexer": "ipython3",
   "version": "3.12.5"
  }
 },
 "nbformat": 4,
 "nbformat_minor": 2
}
