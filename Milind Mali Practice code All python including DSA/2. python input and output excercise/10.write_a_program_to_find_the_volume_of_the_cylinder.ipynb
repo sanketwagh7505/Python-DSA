{
 "cells": [
  {
   "cell_type": "markdown",
   "metadata": {},
   "source": [
    "#### Write a Program to find the Volume of the Cylinder. Also find the cost when, the cost of 1 litre milk is 40 Rs. "
   ]
  },
  {
   "cell_type": "code",
   "execution_count": 1,
   "metadata": {},
   "outputs": [
    {
     "name": "stdout",
     "output_type": "stream",
     "text": [
      "Volume of Cylinder will be 49266.56\n",
      "The Milk volume cylinder can carry is 49.26656 litres\n",
      "The cost for the 49.26656 litres of milk will be 1970.6624\n"
     ]
    }
   ],
   "source": [
    "# radius and height should be given by the user\n",
    "r = float(input(\"Enter the radius of the cylinder: \"))\n",
    "h = float(input(\"Enter the heighr of the Cylinder: \"))\n",
    "\n",
    "vol = 3.142 * (r**2) * h  # formula for volume = pi* (r**2) * h\n",
    "litre = vol/ 1000\n",
    "price = litre * 40\n",
    "\n",
    "print(f\"Volume of Cylinder will be {vol}\")\n",
    "print(f\"The Milk volume cylinder can carry is {litre} litres\")\n",
    "print(f\"The cost for the {litre} litres of milk will be {price}\")"
   ]
  }
 ],
 "metadata": {
  "kernelspec": {
   "display_name": "Python 3",
   "language": "python",
   "name": "python3"
  },
  "language_info": {
   "codemirror_mode": {
    "name": "ipython",
    "version": 3
   },
   "file_extension": ".py",
   "mimetype": "text/x-python",
   "name": "python",
   "nbconvert_exporter": "python",
   "pygments_lexer": "ipython3",
   "version": "3.12.5"
  }
 },
 "nbformat": 4,
 "nbformat_minor": 2
}
