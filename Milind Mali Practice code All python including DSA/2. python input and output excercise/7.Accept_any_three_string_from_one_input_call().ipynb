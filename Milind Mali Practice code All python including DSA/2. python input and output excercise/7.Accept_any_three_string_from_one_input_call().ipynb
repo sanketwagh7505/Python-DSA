{
 "cells": [
  {
   "cell_type": "code",
   "execution_count": 1,
   "metadata": {},
   "outputs": [
    {
     "name": "stdout",
     "output_type": "stream",
     "text": [
      "Sanket\n",
      "Yuvraj\n",
      "Wagh\n"
     ]
    }
   ],
   "source": [
    "name = input(\"Enter three names with keeping space in between: \")\n",
    "\n",
    "n0 = name.split()\n",
    "\n",
    "n1 = n0[0]\n",
    "n2 = n0[1]\n",
    "n3 = n0[2]\n",
    "\n",
    "print(n1)\n",
    "print(n2)\n",
    "print(n3)"
   ]
  }
 ],
 "metadata": {
  "kernelspec": {
   "display_name": "Python 3",
   "language": "python",
   "name": "python3"
  },
  "language_info": {
   "codemirror_mode": {
    "name": "ipython",
    "version": 3
   },
   "file_extension": ".py",
   "mimetype": "text/x-python",
   "name": "python",
   "nbconvert_exporter": "python",
   "pygments_lexer": "ipython3",
   "version": "3.12.5"
  }
 },
 "nbformat": 4,
 "nbformat_minor": 2
}
