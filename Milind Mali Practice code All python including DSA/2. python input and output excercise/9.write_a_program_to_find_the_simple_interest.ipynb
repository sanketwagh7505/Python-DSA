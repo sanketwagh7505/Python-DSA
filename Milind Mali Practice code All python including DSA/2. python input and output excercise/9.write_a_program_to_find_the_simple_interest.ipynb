{
 "cells": [
  {
   "cell_type": "code",
   "execution_count": 1,
   "metadata": {},
   "outputs": [
    {
     "name": "stdout",
     "output_type": "stream",
     "text": [
      "40200.0\n",
      "The Total Amount needs to be paid is: 107200.0\n"
     ]
    }
   ],
   "source": [
    "P = float(input(\"Priciple amount: \"))\n",
    "R = float(input(\"Rate of Interest: \"))\n",
    "T = int(input(\"For time Period(years): \"))\n",
    "\n",
    "Simple_Interest  = (P*R*T)/100\n",
    "\n",
    "print(Simple_Interest)\n",
    "\n",
    "total_Amount_due = P + Simple_Interest\n",
    "\n",
    "print(f\"The Total Amount needs to be paid is: {total_Amount_due}\")"
   ]
  }
 ],
 "metadata": {
  "kernelspec": {
   "display_name": "Python 3",
   "language": "python",
   "name": "python3"
  },
  "language_info": {
   "codemirror_mode": {
    "name": "ipython",
    "version": 3
   },
   "file_extension": ".py",
   "mimetype": "text/x-python",
   "name": "python",
   "nbconvert_exporter": "python",
   "pygments_lexer": "ipython3",
   "version": "3.12.5"
  }
 },
 "nbformat": 4,
 "nbformat_minor": 2
}
