{
 "cells": [
  {
   "cell_type": "markdown",
   "metadata": {},
   "source": [
    "### preventing crashes from user Input"
   ]
  },
  {
   "cell_type": "code",
   "execution_count": 3,
   "metadata": {},
   "outputs": [
    {
     "name": "stdout",
     "output_type": "stream",
     "text": [
      "Enter The Numbers: \n",
      "Press 'q' to exit \n",
      "Bhidu!!! Zero se Divide nahi kar sakte\n",
      "Keep Following to learn Something new\n"
     ]
    }
   ],
   "source": [
    "# Simple Calculator\n",
    "\n",
    "print(\"Enter The Numbers: \")\n",
    "print(\"Press 'q' to exit \")\n",
    "\n",
    "while(True):\n",
    "    x = input(\"Enter the number: \")\n",
    "    if x== 'q':\n",
    "        break\n",
    "    y = input(\"Enter the Number: \")\n",
    "    if y == 'q':\n",
    "        break\n",
    "\n",
    "    try:\n",
    "        result = float(x)/float(y)\n",
    "    except ZeroDivisionError:\n",
    "        print(\"Bhidu!!! Zero se Divide nahi kar sakte\")\n",
    "    else:\n",
    "        print(result)\n",
    "    finally:\n",
    "        print(\"Keep Following to learn Something new\")            "
   ]
  }
 ],
 "metadata": {
  "kernelspec": {
   "display_name": "Python 3",
   "language": "python",
   "name": "python3"
  },
  "language_info": {
   "codemirror_mode": {
    "name": "ipython",
    "version": 3
   },
   "file_extension": ".py",
   "mimetype": "text/x-python",
   "name": "python",
   "nbconvert_exporter": "python",
   "pygments_lexer": "ipython3",
   "version": "3.12.5"
  }
 },
 "nbformat": 4,
 "nbformat_minor": 2
}
