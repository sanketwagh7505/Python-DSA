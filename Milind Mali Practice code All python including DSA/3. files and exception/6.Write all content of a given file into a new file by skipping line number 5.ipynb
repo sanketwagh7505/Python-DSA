{
 "cells": [
  {
   "cell_type": "markdown",
   "metadata": {},
   "source": [
    "### Write all content of a given file into a new file by skipping line number 5"
   ]
  },
  {
   "cell_type": "code",
   "execution_count": 2,
   "metadata": {},
   "outputs": [],
   "source": [
    "# read test file\n",
    "with open('test file.txt', 'r') as fp:\n",
    "    lines = fp.readlines()\n"
   ]
  },
  {
   "cell_type": "code",
   "execution_count": 3,
   "metadata": {},
   "outputs": [],
   "source": [
    "# open new file in write mode\n",
    "with open('new test file', 'w') as ntf:\n",
    "    count = 0\n",
    "    # Iterate each line from test file\n",
    "    for line in lines:\n",
    "        if count == 4:\n",
    "            count += 1\n",
    "            continue\n",
    "        else:\n",
    "            ntf.write(line)\n",
    "        count +=1 "
   ]
  },
  {
   "cell_type": "code",
   "execution_count": 10,
   "metadata": {},
   "outputs": [
    {
     "name": "stdout",
     "output_type": "stream",
     "text": [
      "line1\n",
      "line2\n",
      "line3\n",
      "line4\n",
      "line6\n",
      "line7\n"
     ]
    }
   ],
   "source": [
    "\n",
    "with open('new test file') as ntf:\n",
    "    for line in ntf:\n",
    "        print(line.rstrip())"
   ]
  }
 ],
 "metadata": {
  "kernelspec": {
   "display_name": "Python 3",
   "language": "python",
   "name": "python3"
  },
  "language_info": {
   "codemirror_mode": {
    "name": "ipython",
    "version": 3
   },
   "file_extension": ".py",
   "mimetype": "text/x-python",
   "name": "python",
   "nbconvert_exporter": "python",
   "pygments_lexer": "ipython3",
   "version": "3.12.5"
  }
 },
 "nbformat": 4,
 "nbformat_minor": 2
}
