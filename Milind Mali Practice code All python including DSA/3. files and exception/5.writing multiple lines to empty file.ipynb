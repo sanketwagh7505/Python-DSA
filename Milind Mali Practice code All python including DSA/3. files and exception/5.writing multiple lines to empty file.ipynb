{
 "cells": [
  {
   "cell_type": "markdown",
   "metadata": {},
   "source": [
    "### Writing Multiple lines to an empty file "
   ]
  },
  {
   "cell_type": "code",
   "execution_count": 1,
   "metadata": {},
   "outputs": [],
   "source": [
    "filename = \"text.txt\"\n",
    "with open(filename,'w') as f:\n",
    "    f.write(\"Deep Learning is Awesome.\\n\")\n",
    "    f.write(\"AI is Future. \\n\")\n",
    "    "
   ]
  },
  {
   "cell_type": "code",
   "execution_count": 2,
   "metadata": {},
   "outputs": [],
   "source": [
    "with open(filename, 'a') as f:\n",
    "    f.write('I love to work with data science project. \\n')\n",
    "    f.write('I love making Machine learning model. \\n')"
   ]
  },
  {
   "cell_type": "code",
   "execution_count": 3,
   "metadata": {},
   "outputs": [
    {
     "name": "stdout",
     "output_type": "stream",
     "text": [
      "['Deep Learning is Awesome.\\n', 'AI is Future. \\n', 'I love to work with data science project. \\n', 'I love making Machine learning model. \\n']\n"
     ]
    }
   ],
   "source": [
    "## Syntax fro opening the file using path\n",
    "with open(filename) as f:\n",
    "    lines = f.readlines()\n",
    "\n",
    "print(lines)    "
   ]
  }
 ],
 "metadata": {
  "kernelspec": {
   "display_name": "Python 3",
   "language": "python",
   "name": "python3"
  },
  "language_info": {
   "codemirror_mode": {
    "name": "ipython",
    "version": 3
   },
   "file_extension": ".py",
   "mimetype": "text/x-python",
   "name": "python",
   "nbconvert_exporter": "python",
   "pygments_lexer": "ipython3",
   "version": "3.12.5"
  }
 },
 "nbformat": 4,
 "nbformat_minor": 2
}
