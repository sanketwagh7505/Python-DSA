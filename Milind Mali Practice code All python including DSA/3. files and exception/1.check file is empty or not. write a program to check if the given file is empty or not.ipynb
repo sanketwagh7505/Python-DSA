{
 "cells": [
  {
   "cell_type": "code",
   "execution_count": 2,
   "metadata": {},
   "outputs": [
    {
     "name": "stdout",
     "output_type": "stream",
     "text": [
      "The File is Empty\n"
     ]
    }
   ],
   "source": [
    "# Check file is empty or not. Write a program to check if the given file is empty or not.\n",
    "import os\n",
    "size = os.stat(\"test file.txt\").st_size\n",
    "\n",
    "if size == 0:\n",
    "    print(\"The File is Empty\")\n",
    "else:\n",
    "    print(\"The File is not Empty\")\n",
    "    \n",
    "        "
   ]
  }
 ],
 "metadata": {
  "kernelspec": {
   "display_name": "Python 3",
   "language": "python",
   "name": "python3"
  },
  "language_info": {
   "codemirror_mode": {
    "name": "ipython",
    "version": 3
   },
   "file_extension": ".py",
   "mimetype": "text/x-python",
   "name": "python",
   "nbconvert_exporter": "python",
   "pygments_lexer": "ipython3",
   "version": "3.12.5"
  }
 },
 "nbformat": 4,
 "nbformat_minor": 2
}
