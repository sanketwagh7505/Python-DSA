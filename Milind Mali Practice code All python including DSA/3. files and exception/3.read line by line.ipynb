{
 "cells": [
  {
   "cell_type": "markdown",
   "metadata": {},
   "source": [
    "### read line by line "
   ]
  },
  {
   "cell_type": "code",
   "execution_count": 1,
   "metadata": {},
   "outputs": [
    {
     "name": "stdout",
     "output_type": "stream",
     "text": [
      "I'm Aspiring Data Scientist\n",
      "I love to work with data\n",
      "I love Python\n"
     ]
    }
   ],
   "source": [
    "filename = \"sanket.txt\"\n",
    "\n",
    "with open(filename) as f_name:\n",
    "    for line in f_name:\n",
    "        print(line.rstrip())"
   ]
  },
  {
   "cell_type": "code",
   "execution_count": 2,
   "metadata": {},
   "outputs": [
    {
     "name": "stdout",
     "output_type": "stream",
     "text": [
      "I'm Aspiring Data Scientist\n",
      "I love to work with data\n",
      "I love Python\n"
     ]
    }
   ],
   "source": [
    "# Alternate way\n",
    "# Storing line to the list \n",
    "\n",
    "with open(filename) as f_name:\n",
    "    lines = f_name.readlines()\n",
    "\n",
    "for line in lines:\n",
    "    print(line.rstrip())    "
   ]
  }
 ],
 "metadata": {
  "kernelspec": {
   "display_name": "Python 3",
   "language": "python",
   "name": "python3"
  },
  "language_info": {
   "codemirror_mode": {
    "name": "ipython",
    "version": 3
   },
   "file_extension": ".py",
   "mimetype": "text/x-python",
   "name": "python",
   "nbconvert_exporter": "python",
   "pygments_lexer": "ipython3",
   "version": "3.12.5"
  }
 },
 "nbformat": 4,
 "nbformat_minor": 2
}
