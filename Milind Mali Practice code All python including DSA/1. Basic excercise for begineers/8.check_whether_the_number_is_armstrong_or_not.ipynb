{
 "cells": [
  {
   "cell_type": "markdown",
   "metadata": {},
   "source": [
    "An Armstrong Number is one whose sum of digits raised to the power three equals the number itself. 371, for example, is an armstrong number because 3** 3 + 7** 3 + 1**3 = 371"
   ]
  },
  {
   "cell_type": "code",
   "execution_count": 4,
   "metadata": {},
   "outputs": [],
   "source": [
    "n = int(input('Enter the number : '))"
   ]
  },
  {
   "cell_type": "code",
   "execution_count": 5,
   "metadata": {},
   "outputs": [],
   "source": [
    "a = n % 10\n",
    "num = n // 10\n",
    "b = num % 10\n",
    "c = num // 10"
   ]
  },
  {
   "cell_type": "code",
   "execution_count": 6,
   "metadata": {},
   "outputs": [
    {
     "name": "stdout",
     "output_type": "stream",
     "text": [
      "The Number is Armstrong Number\n"
     ]
    }
   ],
   "source": [
    "if (a**3 + b**3 + c**3)==n :\n",
    "    print(\"The Number is Armstrong Number\")\n",
    "else:\n",
    "    print(\"The Number is not Armstrong Number\")"
   ]
  }
 ],
 "metadata": {
  "kernelspec": {
   "display_name": "Python 3",
   "language": "python",
   "name": "python3"
  },
  "language_info": {
   "codemirror_mode": {
    "name": "ipython",
    "version": 3
   },
   "file_extension": ".py",
   "mimetype": "text/x-python",
   "name": "python",
   "nbconvert_exporter": "python",
   "pygments_lexer": "ipython3",
   "version": "3.12.4"
  }
 },
 "nbformat": 4,
 "nbformat_minor": 2
}
