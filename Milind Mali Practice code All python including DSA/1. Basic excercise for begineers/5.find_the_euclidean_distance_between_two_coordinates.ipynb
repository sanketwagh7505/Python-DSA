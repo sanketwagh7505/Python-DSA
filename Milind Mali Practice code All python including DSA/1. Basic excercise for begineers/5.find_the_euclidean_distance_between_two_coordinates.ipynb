{
 "cells": [
  {
   "cell_type": "code",
   "execution_count": 4,
   "metadata": {},
   "outputs": [],
   "source": [
    "# The Euclidean distance between two co-ordinated points can be calculated by "
   ]
  },
  {
   "cell_type": "markdown",
   "metadata": {},
   "source": [
    "![alt text](Euclidean_Distance_1_59a98c213f.png)"
   ]
  },
  {
   "cell_type": "code",
   "execution_count": 5,
   "metadata": {},
   "outputs": [],
   "source": [
    "import math"
   ]
  },
  {
   "cell_type": "code",
   "execution_count": 6,
   "metadata": {},
   "outputs": [],
   "source": [
    "x1 = float(input('x1 : '))\n",
    "y1 = float(input('y1 : '))\n",
    "x2 = float(input('x2 : '))\n",
    "y2 = float(input('y2 : '))"
   ]
  },
  {
   "cell_type": "code",
   "execution_count": 7,
   "metadata": {},
   "outputs": [
    {
     "name": "stdout",
     "output_type": "stream",
     "text": [
      "Euclidean distance for a given co-ordinate will be 5.66\n"
     ]
    }
   ],
   "source": [
    "x = [x1, y1]\n",
    "y = [x2, y2]\n",
    "print('Euclidean distance for a given co-ordinate will be', round(math.dist(x, y), 2))"
   ]
  },
  {
   "cell_type": "code",
   "execution_count": null,
   "metadata": {},
   "outputs": [],
   "source": []
  }
 ],
 "metadata": {
  "kernelspec": {
   "display_name": "Python 3",
   "language": "python",
   "name": "python3"
  },
  "language_info": {
   "codemirror_mode": {
    "name": "ipython",
    "version": 3
   },
   "file_extension": ".py",
   "mimetype": "text/x-python",
   "name": "python",
   "nbconvert_exporter": "python",
   "pygments_lexer": "ipython3",
   "version": "3.12.4"
  }
 },
 "nbformat": 4,
 "nbformat_minor": 2
}
