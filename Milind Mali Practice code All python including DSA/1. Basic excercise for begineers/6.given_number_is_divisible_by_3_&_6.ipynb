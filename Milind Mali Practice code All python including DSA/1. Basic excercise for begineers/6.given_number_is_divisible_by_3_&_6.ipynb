{
 "cells": [
  {
   "cell_type": "code",
   "execution_count": 3,
   "metadata": {},
   "outputs": [],
   "source": [
    "num = int(input(\"Enter the Number : \"))"
   ]
  },
  {
   "cell_type": "code",
   "execution_count": 4,
   "metadata": {},
   "outputs": [
    {
     "name": "stdout",
     "output_type": "stream",
     "text": [
      "the Number is divisible by 3 & 6\n"
     ]
    }
   ],
   "source": [
    "if num % 3 == 0 and num % 6 == 0:\n",
    "    print('the Number is divisible by 3 & 6')\n",
    "else:\n",
    "    print('The number is not divisible by 3 & 6')    "
   ]
  }
 ],
 "metadata": {
  "kernelspec": {
   "display_name": "Python 3",
   "language": "python",
   "name": "python3"
  },
  "language_info": {
   "codemirror_mode": {
    "name": "ipython",
    "version": 3
   },
   "file_extension": ".py",
   "mimetype": "text/x-python",
   "name": "python",
   "nbconvert_exporter": "python",
   "pygments_lexer": "ipython3",
   "version": "3.12.4"
  }
 },
 "nbformat": 4,
 "nbformat_minor": 2
}
