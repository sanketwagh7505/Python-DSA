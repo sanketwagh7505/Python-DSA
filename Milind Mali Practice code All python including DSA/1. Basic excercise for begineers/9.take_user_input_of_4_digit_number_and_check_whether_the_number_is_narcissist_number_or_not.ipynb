{
 "cells": [
  {
   "cell_type": "code",
   "execution_count": 1,
   "metadata": {},
   "outputs": [],
   "source": [
    "n = int(input('Enter a number : '))"
   ]
  },
  {
   "cell_type": "code",
   "execution_count": 2,
   "metadata": {},
   "outputs": [],
   "source": [
    "a = n % 10 \n",
    "num = n // 10 \n",
    "b = num % 10 \n",
    "num1 = num // 10\n",
    "c = num1 % 10 \n",
    "d = num1 // 2"
   ]
  },
  {
   "cell_type": "code",
   "execution_count": 3,
   "metadata": {},
   "outputs": [
    {
     "name": "stdout",
     "output_type": "stream",
     "text": [
      "The number is not narcissist\n"
     ]
    }
   ],
   "source": [
    "# Checking whether the number is narcissist or not\n",
    "if (a**4 + b**4 + c**4) == n:\n",
    "    print(\"The number is narcissist\")\n",
    "else:\n",
    "    print(\"The number is not narcissist\")"
   ]
  },
  {
   "cell_type": "code",
   "execution_count": null,
   "metadata": {},
   "outputs": [],
   "source": []
  },
  {
   "cell_type": "code",
   "execution_count": null,
   "metadata": {},
   "outputs": [],
   "source": []
  },
  {
   "cell_type": "code",
   "execution_count": null,
   "metadata": {},
   "outputs": [],
   "source": []
  }
 ],
 "metadata": {
  "kernelspec": {
   "display_name": "Python 3",
   "language": "python",
   "name": "python3"
  },
  "language_info": {
   "codemirror_mode": {
    "name": "ipython",
    "version": 3
   },
   "file_extension": ".py",
   "mimetype": "text/x-python",
   "name": "python",
   "nbconvert_exporter": "python",
   "pygments_lexer": "ipython3",
   "version": "3.12.4"
  }
 },
 "nbformat": 4,
 "nbformat_minor": 2
}
